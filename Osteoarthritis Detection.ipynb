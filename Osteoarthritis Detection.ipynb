{
 "cells": [
  {
   "cell_type": "markdown",
   "id": "46fdcf31",
   "metadata": {},
   "source": [
    "DL model to detect if osteoarthritis is present or not (provide the probability of having osteoarthritis) in a given knee X-ray image using inceptionV3(GoogleNet) architecture."
   ]
  },
  {
   "cell_type": "markdown",
   "id": "422f5c11",
   "metadata": {},
   "source": [
    "The Dataset contains three folders: <br>\n",
    "    Test (845 images)<br>\n",
    "    Train (2350 images)<br>\n",
    "    Valid (641 images)<br>\n",
    "Each of these folders has two folders:<br>\n",
    "    Test - Normal & Osteoarthritis<br>\n",
    "    Train - Normal & Osteoarthritis<br>\n",
    "    Valid - Normal & Osteoarthritis<br>"
   ]
  },
  {
   "cell_type": "code",
   "execution_count": 3,
   "id": "d8f562be",
   "metadata": {},
   "outputs": [],
   "source": [
    "import os\n",
    "import cv2 as cv\n",
    "import numpy as np\n",
    "import matplotlib.pyplot as plt\n",
    "%matplotlib inline\n",
    "import tensorflow as tf\n",
    "from tensorflow import keras"
   ]
  },
  {
   "cell_type": "code",
   "execution_count": 4,
   "id": "f59b4a54",
   "metadata": {},
   "outputs": [],
   "source": [
    "from keras.utils import to_categorical \n",
    "from keras.preprocessing.image import ImageDataGenerator\n",
    "from keras import optimizers\n",
    "from keras.models import Sequential\n",
    "from keras.layers import Dense, Conv2D, Flatten, MaxPooling2D, Dropout, BatchNormalization\n",
    "from keras.callbacks import ModelCheckpoint, EarlyStopping, ReduceLROnPlateau\n",
    "from sklearn.metrics import accuracy_score,classification_report,confusion_matrix"
   ]
  },
  {
   "cell_type": "code",
   "execution_count": 3,
   "id": "1a8470ed",
   "metadata": {},
   "outputs": [],
   "source": [
    "train_dir = r'C:\\Users\\geetika singh\\Downloads\\Osteoarthritis_dataset\\train'\n",
    "val_dir = r'C:\\Users\\geetika singh\\Downloads\\Osteoarthritis_dataset\\Valid'\n",
    "test_dir = r'C:\\Users\\geetika singh\\Downloads\\Osteoarthritis_dataset\\test'"
   ]
  },
  {
   "cell_type": "code",
   "execution_count": null,
   "id": "258a21db",
   "metadata": {},
   "outputs": [],
   "source": [
    "keras.backend.clear_session()\n",
    "del model"
   ]
  },
  {
   "cell_type": "markdown",
   "id": "7c9ba8de",
   "metadata": {},
   "source": [
    "### Image Preprocessing using OpenCV"
   ]
  },
  {
   "cell_type": "code",
   "execution_count": 4,
   "id": "f67867c2",
   "metadata": {},
   "outputs": [],
   "source": [
    "x_train=[]\n",
    "x_val=[]\n",
    "x_test=[]\n",
    "categories = [\"Normal\",\"Osteoarthritis\"]"
   ]
  },
  {
   "cell_type": "code",
   "execution_count": 5,
   "id": "2ebbf93a",
   "metadata": {},
   "outputs": [],
   "source": [
    "num=0\n",
    "for category in categories:\n",
    "    path = os.path.join(train_dir, category)\n",
    "    for img in os.listdir(path):\n",
    "        img_arr = cv.imread(os.path.join(path,img),cv.IMREAD_GRAYSCALE)\n",
    "        img_arr = cv.resize(img_arr,(300,224))\n",
    "        img_arr = cv.equalizeHist(img_arr)\n",
    "        #segmentation (cropping) & equalisation (contour)\n",
    "        #img_arr = cv.equalizeHist(img_arr[150:350,50:450])\n",
    "        #DenseNet169 needs 3 channel input\n",
    "        #img_arr = cv.cvtColor(img_arr, cv.COLOR_GRAY2RGB)\n",
    "        x_train.append(img_arr)\n",
    "        num+=1"
   ]
  },
  {
   "cell_type": "code",
   "execution_count": 6,
   "id": "e1d9c213",
   "metadata": {},
   "outputs": [],
   "source": [
    "num=0\n",
    "for category in categories:\n",
    "    path = os.path.join(val_dir, category)\n",
    "    for img in os.listdir(path):\n",
    "        img_arr = cv.imread(os.path.join(path,img),cv.IMREAD_GRAYSCALE)\n",
    "        img_arr = cv.resize(img_arr,(300,224))\n",
    "        img_arr = cv.equalizeHist(img_arr)\n",
    "        #img_arr = cv.equalizeHist(img_arr[150:350,50:450])\n",
    "        #img_arr = cv.cvtColor(img_arr, cv.COLOR_GRAY2RGB)\n",
    "        x_val.append(img_arr)\n",
    "        num+=1"
   ]
  },
  {
   "cell_type": "code",
   "execution_count": 7,
   "id": "ac7495e3",
   "metadata": {},
   "outputs": [],
   "source": [
    "num=0\n",
    "for category in categories:\n",
    "    path = os.path.join(test_dir, category)\n",
    "    class_num = categories.index(category)\n",
    "    for img in os.listdir(path):\n",
    "        img_arr = cv.imread(os.path.join(path,img),cv.IMREAD_GRAYSCALE)\n",
    "        img_arr = cv.resize(img_arr,(300,224))\n",
    "        img_arr = cv.equalizeHist(img_arr)\n",
    "        #img_arr = cv.equalizeHist(img_arr[150:350,50:450])\n",
    "        #img_arr = cv.cvtColor(img_arr, cv.COLOR_GRAY2RGB)\n",
    "        x_test.append(img_arr)\n",
    "        num+=1"
   ]
  },
  {
   "cell_type": "code",
   "execution_count": null,
   "id": "29c882af",
   "metadata": {},
   "outputs": [],
   "source": [
    "plt.imshow(img_arr)\n",
    "plt.show()"
   ]
  },
  {
   "cell_type": "code",
   "execution_count": 9,
   "id": "6310bd92",
   "metadata": {},
   "outputs": [],
   "source": [
    "x_train=np.array(x_train)\n",
    "x_val=np.array(x_val)\n",
    "x_test=np.array(x_test)\n",
    "#normalization\n",
    "x_train=x_train/255.0\n",
    "x_val=x_val/255.0\n",
    "x_test=x_test/255.0"
   ]
  },
  {
   "cell_type": "code",
   "execution_count": 10,
   "id": "699adcd5",
   "metadata": {},
   "outputs": [
    {
     "name": "stdout",
     "output_type": "stream",
     "text": [
      "Found 1840 images belonging to 2 classes.\n",
      "Found 641 images belonging to 2 classes.\n",
      "Found 845 images belonging to 2 classes.\n"
     ]
    }
   ],
   "source": [
    "datagen = ImageDataGenerator()\n",
    "train_dataset = datagen.flow_from_directory(train_dir, \n",
    "                                            target_size=(300,224),\n",
    "                                            batch_size=16,\n",
    "                                            color_mode='grayscale',\n",
    "                                            class_mode='binary')\n",
    "val_dataset = datagen.flow_from_directory(val_dir, \n",
    "                                          target_size=(300,224),\n",
    "                                          batch_size=16,\n",
    "                                          color_mode='grayscale',\n",
    "                                          class_mode = 'binary')\n",
    "test_dataset = datagen.flow_from_directory(test_dir,\n",
    "                                           target_size=(300,224),\n",
    "                                           batch_size=16, \n",
    "                                           color_mode='grayscale',\n",
    "                                           class_mode = 'binary')"
   ]
  },
  {
   "cell_type": "code",
   "execution_count": 11,
   "id": "83e4d0fd",
   "metadata": {},
   "outputs": [
    {
     "data": {
      "text/plain": [
       "{'Normal': 0, 'Osteoarthritis': 1}"
      ]
     },
     "execution_count": 11,
     "metadata": {},
     "output_type": "execute_result"
    }
   ],
   "source": [
    "train_dataset.class_indices"
   ]
  },
  {
   "cell_type": "code",
   "execution_count": 12,
   "id": "0f500615",
   "metadata": {},
   "outputs": [],
   "source": [
    "y_train = train_dataset.classes\n",
    "y_val = val_dataset.classes\n",
    "y_test = test_dataset.classes"
   ]
  },
  {
   "cell_type": "code",
   "execution_count": 13,
   "id": "158835ab",
   "metadata": {},
   "outputs": [
    {
     "data": {
      "text/plain": [
       "((1840, 224, 300), (1840,))"
      ]
     },
     "execution_count": 13,
     "metadata": {},
     "output_type": "execute_result"
    }
   ],
   "source": [
    "x_train.shape,y_train.shape"
   ]
  },
  {
   "cell_type": "code",
   "execution_count": 17,
   "id": "4cb1b6d1",
   "metadata": {},
   "outputs": [],
   "source": [
    "model = Sequential()\n",
    "\n",
    "model.add(Conv2D(32, (3, 3), activation='relu', input_shape=(224,300, 1)))\n",
    "model.add(MaxPooling2D((2, 2)))\n",
    "model.add(BatchNormalization())\n",
    "\n",
    "model.add(Conv2D(64, (3, 3), activation='relu'))\n",
    "model.add(MaxPooling2D((2, 2)))\n",
    "model.add(BatchNormalization())\n",
    "\n",
    "model.add(Conv2D(128, (3, 3), activation='relu'))\n",
    "model.add(MaxPooling2D((2, 2)))\n",
    "model.add(BatchNormalization())\n",
    "\n",
    "model.add(Conv2D(128, (3, 3), activation='relu'))\n",
    "model.add(MaxPooling2D((2, 2)))\n",
    "model.add(BatchNormalization())\n",
    "\n",
    "model.add(Flatten())\n",
    "model.add(Dropout(0.5))\n",
    "model.add(Dense(128, activation='relu'))\n",
    "model.add(Dropout(0.5))\n",
    "model.add(Dense(64, activation='relu'))\n",
    "model.add(Dropout(0.5))\n",
    "model.add(Dense(1, activation='sigmoid'))\n",
    "\n",
    "model.compile(loss='binary_crossentropy', optimizer='adam', metrics=['acc'])"
   ]
  },
  {
   "cell_type": "code",
   "execution_count": 18,
   "id": "d2299f04",
   "metadata": {},
   "outputs": [],
   "source": [
    "checkpoint_cb = ModelCheckpoint(\"Osteoarthritis_OpenCV_Preprocessed.h5\", save_best_only=True)\n",
    "early_stopping_cb = EarlyStopping(monitor='val_loss', mode='min', \n",
    "                                   patience=3, restore_best_weights=True)\n",
    "lr_reduction = ReduceLROnPlateau(monitor='val_loss', patience = 2, \n",
    "                                            verbose=1,factor=0.3, min_lr=0.000001)"
   ]
  },
  {
   "cell_type": "code",
   "execution_count": 19,
   "id": "241f884c",
   "metadata": {
    "collapsed": true
   },
   "outputs": [
    {
     "name": "stdout",
     "output_type": "stream",
     "text": [
      "Epoch 1/10\n",
      "58/58 [==============================] - 187s 3s/step - loss: 0.9858 - acc: 0.7397 - val_loss: 0.7362 - val_acc: 0.6724 - lr: 0.0010\n",
      "Epoch 2/10\n"
     ]
    },
    {
     "name": "stderr",
     "output_type": "stream",
     "text": [
      "C:\\Users\\geetika singh\\anaconda3\\Lib\\site-packages\\keras\\src\\engine\\training.py:3000: UserWarning: You are saving your model as an HDF5 file via `model.save()`. This file format is considered legacy. We recommend using instead the native Keras format, e.g. `model.save('my_model.keras')`.\n",
      "  saving_api.save_model(\n"
     ]
    },
    {
     "name": "stdout",
     "output_type": "stream",
     "text": [
      "58/58 [==============================] - 214s 4s/step - loss: 0.4560 - acc: 0.7962 - val_loss: 0.6016 - val_acc: 0.7114 - lr: 0.0010\n",
      "Epoch 3/10\n",
      "58/58 [==============================] - 228s 4s/step - loss: 0.4226 - acc: 0.8071 - val_loss: 0.7227 - val_acc: 0.6724 - lr: 0.0010\n",
      "Epoch 4/10\n",
      "58/58 [==============================] - ETA: 0s - loss: 0.3689 - acc: 0.8277\n",
      "Epoch 4: ReduceLROnPlateau reducing learning rate to 0.0003000000142492354.\n",
      "58/58 [==============================] - 230s 4s/step - loss: 0.3689 - acc: 0.8277 - val_loss: 0.6601 - val_acc: 0.5289 - lr: 0.0010\n",
      "Epoch 5/10\n",
      "58/58 [==============================] - 232s 4s/step - loss: 0.3479 - acc: 0.8283 - val_loss: 0.6906 - val_acc: 0.6708 - lr: 3.0000e-04\n"
     ]
    }
   ],
   "source": [
    "history = model.fit(x_train,y_train, \n",
    "                    epochs=10, shuffle=True,\n",
    "                    validation_data=(x_val,y_val), \n",
    "                    callbacks=[checkpoint_cb, early_stopping_cb, lr_reduction])"
   ]
  },
  {
   "cell_type": "code",
   "execution_count": 20,
   "id": "fbd42702",
   "metadata": {},
   "outputs": [],
   "source": [
    "model = keras.models.load_model(\"Osteoarthritis_OpenCV_Preprocessed.h5\")"
   ]
  },
  {
   "cell_type": "code",
   "execution_count": 21,
   "id": "e55954c0",
   "metadata": {},
   "outputs": [
    {
     "name": "stdout",
     "output_type": "stream",
     "text": [
      "27/27 [==============================] - 18s 657ms/step\n",
      "0.6733727810650888\n"
     ]
    }
   ],
   "source": [
    "y_pred=model.predict(x_test)\n",
    "y_pred=np.argmax(y_pred,axis=1)\n",
    "print(accuracy_score(y_pred,y_test))"
   ]
  },
  {
   "cell_type": "code",
   "execution_count": 22,
   "id": "60318396",
   "metadata": {
    "collapsed": true
   },
   "outputs": [
    {
     "name": "stdout",
     "output_type": "stream",
     "text": [
      "              precision    recall  f1-score   support\n",
      "\n",
      "           0       1.00      0.67      0.80       845\n",
      "           1       0.00      0.00      0.00         0\n",
      "\n",
      "    accuracy                           0.67       845\n",
      "   macro avg       0.50      0.34      0.40       845\n",
      "weighted avg       1.00      0.67      0.80       845\n",
      "\n"
     ]
    },
    {
     "name": "stderr",
     "output_type": "stream",
     "text": [
      "C:\\Users\\geetika singh\\anaconda3\\Lib\\site-packages\\sklearn\\metrics\\_classification.py:1469: UndefinedMetricWarning: Recall and F-score are ill-defined and being set to 0.0 in labels with no true samples. Use `zero_division` parameter to control this behavior.\n",
      "  _warn_prf(average, modifier, msg_start, len(result))\n",
      "C:\\Users\\geetika singh\\anaconda3\\Lib\\site-packages\\sklearn\\metrics\\_classification.py:1469: UndefinedMetricWarning: Recall and F-score are ill-defined and being set to 0.0 in labels with no true samples. Use `zero_division` parameter to control this behavior.\n",
      "  _warn_prf(average, modifier, msg_start, len(result))\n",
      "C:\\Users\\geetika singh\\anaconda3\\Lib\\site-packages\\sklearn\\metrics\\_classification.py:1469: UndefinedMetricWarning: Recall and F-score are ill-defined and being set to 0.0 in labels with no true samples. Use `zero_division` parameter to control this behavior.\n",
      "  _warn_prf(average, modifier, msg_start, len(result))\n"
     ]
    }
   ],
   "source": [
    "print(classification_report(y_pred,y_test))"
   ]
  },
  {
   "cell_type": "code",
   "execution_count": 23,
   "id": "428ac43b",
   "metadata": {},
   "outputs": [
    {
     "name": "stdout",
     "output_type": "stream",
     "text": [
      "[[569 276]\n",
      " [  0   0]]\n"
     ]
    }
   ],
   "source": [
    "print(confusion_matrix(y_pred,y_test))"
   ]
  },
  {
   "cell_type": "code",
   "execution_count": null,
   "id": "c1d7645a",
   "metadata": {},
   "outputs": [],
   "source": []
  },
  {
   "cell_type": "markdown",
   "id": "8bb2118d",
   "metadata": {},
   "source": [
    "## InceptionV3"
   ]
  },
  {
   "cell_type": "code",
   "execution_count": null,
   "id": "a24a1657",
   "metadata": {},
   "outputs": [],
   "source": [
    "train_datagen = ImageDataGenerator(rescale=1./255, \n",
    "                                   shear_range=0.2, \n",
    "                                   zoom_range=0.2, \n",
    "                                   horizontal_flip=True,)\n",
    "\n",
    "train_generator = train_datagen.flow_from_directory(train_dir, \n",
    "                                                    target_size=(500, 500), \n",
    "                                                    batch_size=16, \n",
    "                                                    class_mode='binary')\n",
    "\n",
    "datagen = ImageDataGenerator(rescale=1./255)\n",
    "\n",
    "validation_generator = datagen.flow_from_directory(val_dir, \n",
    "                                                   target_size=(500, 500), \n",
    "                                                   batch_size=16, \n",
    "                                                   class_mode='binary')\n",
    "\n",
    "test_generator = datagen.flow_from_directory(test_dir, \n",
    "                                             target_size=(500, 500),\n",
    "                                             batch_size=16,\n",
    "                                             shuffle=False,\n",
    "                                             class_mode='binary')"
   ]
  },
  {
   "cell_type": "code",
   "execution_count": null,
   "id": "510232d9",
   "metadata": {},
   "outputs": [],
   "source": [
    "conv_base = keras.applications.InceptionV3(weights='imagenet',\n",
    "                                           include_top=False,\n",
    "                                           input_shape=(500, 500, 3))"
   ]
  },
  {
   "cell_type": "code",
   "execution_count": null,
   "id": "c01d8dd0",
   "metadata": {},
   "outputs": [],
   "source": [
    "model = Sequential()\n",
    "model.add(conv_base)\n",
    "model.add(Flatten())\n",
    "model.add(Dropout(0.5))\n",
    "model.add(Dense(128, activation='relu'))\n",
    "model.add(Dropout(0.5))\n",
    "model.add(Dense(64, activation='relu'))\n",
    "model.add(Dropout(0.5))\n",
    "model.add(Dense(1, activation='sigmoid'))\n",
    "\n",
    "model.compile(loss='binary_crossentropy', optimizer='adam', metrics=['acc'])"
   ]
  },
  {
   "cell_type": "code",
   "execution_count": null,
   "id": "86383a61",
   "metadata": {},
   "outputs": [],
   "source": [
    "checkpoint_cb2 = ModelCheckpoint(\"Osteoarthritis_InceptionV3.h5\", save_best_only=True)\n",
    "early_stopping_cb2 = EarlyStopping(monitor='val_loss', mode='min', \n",
    "                                   patience=3, restore_best_weights=True)\n",
    "lr_reduction2 = ReduceLROnPlateau(monitor='val_loss', patience = 2, \n",
    "                                            verbose=1,factor=0.3, min_lr=0.000001)"
   ]
  },
  {
   "cell_type": "code",
   "execution_count": null,
   "id": "6f18affa",
   "metadata": {},
   "outputs": [],
   "source": [
    "from sklearn.utils.class_weight import compute_class_weight\n",
    "weights = compute_class_weight(class_weight='balanced', \n",
    "                               classes=np.unique(train_generator.classes),\n",
    "                               y=train_generator.classes)\n",
    "cw = dict(zip( np.unique(train_generator.classes), weights))\n",
    "print(cw)"
   ]
  },
  {
   "cell_type": "code",
   "execution_count": null,
   "id": "259ce4df",
   "metadata": {},
   "outputs": [],
   "source": [
    "history = model.fit(train_generator, \n",
    "                    epochs = 10, \n",
    "                    validation_data = validation_generator, \n",
    "                    class_weight = cw,\n",
    "                    callbacks = [checkpoint_cb2, early_stopping_cb2, lr_reduction2])"
   ]
  },
  {
   "cell_type": "code",
   "execution_count": 5,
   "id": "35e008a6",
   "metadata": {},
   "outputs": [],
   "source": [
    "model = keras.models.load_model(\"Osteoarthritis_InceptionV3.h5\")"
   ]
  },
  {
   "cell_type": "code",
   "execution_count": null,
   "id": "893d763e",
   "metadata": {},
   "outputs": [],
   "source": [
    "model.evaluate(test_generator)"
   ]
  },
  {
   "cell_type": "markdown",
   "id": "80801029",
   "metadata": {},
   "source": [
    "66% accuracy on test set using InceptionV3 & Data Augmentation when run on T4 GPU (Google Collab). No Image preprocessing was done. "
   ]
  },
  {
   "cell_type": "markdown",
   "id": "5c406ac9",
   "metadata": {},
   "source": [
    "try building InceptionV3 model on preprocessed images via OpenCV on Collab."
   ]
  }
 ],
 "metadata": {
  "kernelspec": {
   "display_name": "Python 3 (ipykernel)",
   "language": "python",
   "name": "python3"
  },
  "language_info": {
   "codemirror_mode": {
    "name": "ipython",
    "version": 3
   },
   "file_extension": ".py",
   "mimetype": "text/x-python",
   "name": "python",
   "nbconvert_exporter": "python",
   "pygments_lexer": "ipython3",
   "version": "3.11.4"
  }
 },
 "nbformat": 4,
 "nbformat_minor": 5
}
